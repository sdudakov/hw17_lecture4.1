{
 "cells": [
  {
   "cell_type": "code",
   "execution_count": 57,
   "metadata": {
    "collapsed": false,
    "scrolled": true
   },
   "outputs": [
    {
     "data": {
      "text/plain": [
       "True"
      ]
     },
     "execution_count": 57,
     "metadata": {},
     "output_type": "execute_result"
    }
   ],
   "source": [
    "#Задача № 1\n",
    "import pandas as pd\n",
    "\n",
    "def count_top3(years):\n",
    "    PATH = '/home/sdudakov/hw17_lecture4.1/data/'\n",
    "    cols = ['Name', 'Gender', 'Count']\n",
    "    names_by_year = {}\n",
    "    top3_names = []\n",
    "    for year in years:\n",
    "        names_by_year[year] = pd.read_csv(PATH + 'yob{}.txt'.format(year), names = cols)\n",
    "    names_all = pd.concat(names_by_year, names = ['Year', 'Pos'])\n",
    "    names_all = names_all.groupby('Name').sum()        \n",
    "    names_all_sort = names_all.sort_values(by='Count', ascending=False).head(3)\n",
    "#     print(dir(names_all_sort)) #список всех атрибутов объекта\n",
    "    for name in names_all_sort.T:\n",
    "        top3_names.append(name)\n",
    "    return top3_names\n",
    "    \n",
    "count_top3([1880])\n",
    "count_top3([1880]) == ['John', 'William', 'Mary']\n",
    "\n",
    "count_top3([1900, 1950, 2000])\n",
    "count_top3([1900, 1950, 2000]) == ['James', 'John', 'Robert']"
   ]
  },
  {
   "cell_type": "code",
   "execution_count": 5,
   "metadata": {
    "collapsed": false
   },
   "outputs": [
    {
     "data": {
      "text/plain": [
       "True"
      ]
     },
     "execution_count": 5,
     "metadata": {},
     "output_type": "execute_result"
    }
   ],
   "source": [
    "#Задача № 2\n",
    "import pandas as pd\n",
    "\n",
    "def count_dynamics(years):\n",
    "    PATH = '/home/sdudakov/hw17_lecture4.1/data/'\n",
    "    cols = ['Name', 'Gender', 'Count']\n",
    "    names_by_year = {}\n",
    "    gender_dynamics = {}\n",
    "    count_F_by_years = []\n",
    "    count_M_by_years = []\n",
    "    for year in years:\n",
    "        names_by_year[year] = pd.read_csv(PATH + 'yob{}.txt'.format(year), names = cols)\n",
    "        count_F_by_year = names_by_year[year][names_by_year[year].Gender=='F'].Count.sum()\n",
    "        count_F_by_years.append(count_F_by_year)\n",
    "        count_M_by_year = names_by_year[year][names_by_year[year].Gender=='M'].Count.sum()\n",
    "        count_M_by_years.append(count_M_by_year)\n",
    "    gender_dynamics['F'] = count_F_by_years\n",
    "    gender_dynamics['M'] = count_M_by_years\n",
    "    return gender_dynamics\n",
    "\n",
    "count_dynamics([1900, 1950, 2000])\n",
    "\n",
    "count_dynamics([1900, 1950, 2000]) == {'F': [299822, 1713450, 1814738], 'M': [150490, 1791474, 1962556]}\n"
   ]
  }
 ],
 "metadata": {
  "kernelspec": {
   "display_name": "Python 3",
   "language": "python",
   "name": "python3"
  },
  "language_info": {
   "codemirror_mode": {
    "name": "ipython",
    "version": 3
   },
   "file_extension": ".py",
   "mimetype": "text/x-python",
   "name": "python",
   "nbconvert_exporter": "python",
   "pygments_lexer": "ipython3",
   "version": "3.6.0"
  }
 },
 "nbformat": 4,
 "nbformat_minor": 2
}
